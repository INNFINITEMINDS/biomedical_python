{
 "cells": [
  {
   "cell_type": "markdown",
   "metadata": {},
   "source": [
    "# im_analysis_skeleton2.py\n",
    "\n",
    "This is written to serve as an example for anyone who want to implement bioformats in Python2"
   ]
  },
  {
   "cell_type": "code",
   "execution_count": 1,
   "metadata": {
    "collapsed": true
   },
   "outputs": [],
   "source": [
    "import Tkinter as Tk, tkFileDialog\n",
    "import os, sys\n",
    "import javabridge as jv\n",
    "import bioformats as bf\n",
    "import matplotlib\n",
    "matplotlib.use(\"TkAgg\") #without this code, Tkinter and Matplotlib don't play nicely\n",
    "import matplotlib.pyplot as plt\n",
    "import matplotlib.cm as cm\n",
    "import numpy as np"
   ]
  },
  {
   "cell_type": "markdown",
   "metadata": {},
   "source": [
    "##### Start Java Virtual Machine. \n",
    "Note that if you try to do this in Python3, the Java Virtual Machine (javabridge version 1.0.14) gives an error.\n",
    "Also, max_heap_size was set to be 3/4 of my computer's RAM"
   ]
  },
  {
   "cell_type": "code",
   "execution_count": 2,
   "metadata": {
    "collapsed": true
   },
   "outputs": [],
   "source": [
    "jv.start_vm(class_path=bf.JARS, max_heap_size='12G')"
   ]
  },
  {
   "cell_type": "markdown",
   "metadata": {},
   "source": [
    "##### User select image file to work with"
   ]
  },
  {
   "cell_type": "code",
   "execution_count": 3,
   "metadata": {},
   "outputs": [
    {
     "name": "stdout",
     "output_type": "stream",
     "text": [
      "\n",
      "User Selected:  Prefix_3VBSED_slice_0068.tiff\n",
      "\n"
     ]
    }
   ],
   "source": [
    "root = Tk.Tk()\n",
    "root.withdraw() #hiding root alllows file diaglog GUI to be shown without any other GUI elements\n",
    "file_full_path = tkFileDialog.askopenfilename()\n",
    "#file_full_path = '/Users/puifai/Dropbox (Biophotonics)/Biophotonics Team Folder/Dropbox (Biophotonics - Puifai)/mixing_work_and_play/skeleton/Cell1.lsm'\n",
    "filepath, filename = os.path.split(file_full_path)\n",
    "os.chdir(os.path.dirname(file_full_path))\n",
    "\n",
    "print('')\n",
    "print('User Selected:  %s' %filename)\n",
    "print('')"
   ]
  },
  {
   "cell_type": "markdown",
   "metadata": {},
   "source": [
    "##### Show metadata\n",
    "I am using Python-bioformats version 1.1.0 and, as of 4/26/2016, there is a bug in omexml.py. To fix this bug, \n",
    "- Go to your path that contains omexml.py (/anaconda/envs/env2_bioformats/lib/python2.7/site-packages/bioformats/ in my case)\n",
    "- Delete omexml.pyc\n",
    "- Then open omexml.py and change line 318 from 'isinstance(xml, str):' to 'isinstance(xml, basestring)'\n",
    "\n",
    "If you don't do this, you may get an error that says \"ascii codec can't encode character\""
   ]
  },
  {
   "cell_type": "code",
   "execution_count": 4,
   "metadata": {},
   "outputs": [
    {
     "name": "stdout",
     "output_type": "stream",
     "text": [
      "\n",
      "Image Name:  Prefix_3VBSED_slice_0068.tiff\n",
      "Image ID:  Image:0\n",
      "Acquisition Date:  None\n",
      "\n",
      "Bit Depth:  uint16\n",
      "XYZ Dimensions:  2400 x 2400 x 1 pixels\n",
      "Time Points:  1\n",
      "DimensionOrder:  XYCZT\n",
      "Channels:  1\n",
      "Ch1:  None\n"
     ]
    },
    {
     "ename": "IndexError",
     "evalue": "list index out of range",
     "output_type": "error",
     "traceback": [
      "\u001b[0;31m---------------------------------------------------------------------------\u001b[0m",
      "\u001b[0;31mIndexError\u001b[0m                                Traceback (most recent call last)",
      "\u001b[0;32m<ipython-input-4-0b20eff0dda6>\u001b[0m in \u001b[0;36m<module>\u001b[0;34m()\u001b[0m\n\u001b[1;32m     17\u001b[0m \u001b[0;32mprint\u001b[0m\u001b[0;34m(\u001b[0m\u001b[0;34m'Channels:  %s'\u001b[0m \u001b[0;34m%\u001b[0m\u001b[0miome\u001b[0m\u001b[0;34m.\u001b[0m\u001b[0mPixels\u001b[0m\u001b[0;34m.\u001b[0m\u001b[0mget_SizeC\u001b[0m\u001b[0;34m(\u001b[0m\u001b[0;34m)\u001b[0m\u001b[0;34m)\u001b[0m\u001b[0;34m\u001b[0m\u001b[0m\n\u001b[1;32m     18\u001b[0m \u001b[0;32mprint\u001b[0m\u001b[0;34m(\u001b[0m\u001b[0;34m'Ch1:  %s'\u001b[0m \u001b[0;34m%\u001b[0m\u001b[0miome\u001b[0m\u001b[0;34m.\u001b[0m\u001b[0mPixels\u001b[0m\u001b[0;34m.\u001b[0m\u001b[0mChannel\u001b[0m\u001b[0;34m(\u001b[0m\u001b[0;36m0\u001b[0m\u001b[0;34m)\u001b[0m\u001b[0;34m.\u001b[0m\u001b[0mName\u001b[0m\u001b[0;34m)\u001b[0m\u001b[0;34m\u001b[0m\u001b[0m\n\u001b[0;32m---> 19\u001b[0;31m \u001b[0;32mprint\u001b[0m\u001b[0;34m(\u001b[0m\u001b[0;34m'Ch2:  %s'\u001b[0m \u001b[0;34m%\u001b[0m\u001b[0miome\u001b[0m\u001b[0;34m.\u001b[0m\u001b[0mPixels\u001b[0m\u001b[0;34m.\u001b[0m\u001b[0mChannel\u001b[0m\u001b[0;34m(\u001b[0m\u001b[0;36m1\u001b[0m\u001b[0;34m)\u001b[0m\u001b[0;34m.\u001b[0m\u001b[0mName\u001b[0m\u001b[0;34m)\u001b[0m\u001b[0;34m\u001b[0m\u001b[0m\n\u001b[0m\u001b[1;32m     20\u001b[0m \u001b[0;32mprint\u001b[0m\u001b[0;34m(\u001b[0m\u001b[0;34m''\u001b[0m\u001b[0;34m)\u001b[0m\u001b[0;34m\u001b[0m\u001b[0m\n",
      "\u001b[0;32m/anaconda/envs/env2_bioformats/lib/python2.7/site-packages/bioformats/omexml.pyc\u001b[0m in \u001b[0;36mChannel\u001b[0;34m(self, index)\u001b[0m\n\u001b[1;32m    677\u001b[0m         \u001b[0;32mdef\u001b[0m \u001b[0mChannel\u001b[0m\u001b[0;34m(\u001b[0m\u001b[0mself\u001b[0m\u001b[0;34m,\u001b[0m \u001b[0mindex\u001b[0m\u001b[0;34m=\u001b[0m\u001b[0;36m0\u001b[0m\u001b[0;34m)\u001b[0m\u001b[0;34m:\u001b[0m\u001b[0;34m\u001b[0m\u001b[0m\n\u001b[1;32m    678\u001b[0m             \u001b[0;34m'''Get the indexed channel from the Pixels element'''\u001b[0m\u001b[0;34m\u001b[0m\u001b[0m\n\u001b[0;32m--> 679\u001b[0;31m             \u001b[0mchannel\u001b[0m \u001b[0;34m=\u001b[0m \u001b[0mself\u001b[0m\u001b[0;34m.\u001b[0m\u001b[0mnode\u001b[0m\u001b[0;34m.\u001b[0m\u001b[0mfindall\u001b[0m\u001b[0;34m(\u001b[0m\u001b[0mqn\u001b[0m\u001b[0;34m(\u001b[0m\u001b[0mself\u001b[0m\u001b[0;34m.\u001b[0m\u001b[0mns\u001b[0m\u001b[0;34m[\u001b[0m\u001b[0;34m'ome'\u001b[0m\u001b[0;34m]\u001b[0m\u001b[0;34m,\u001b[0m \u001b[0;34m\"Channel\"\u001b[0m\u001b[0;34m)\u001b[0m\u001b[0;34m)\u001b[0m\u001b[0;34m[\u001b[0m\u001b[0mindex\u001b[0m\u001b[0;34m]\u001b[0m\u001b[0;34m\u001b[0m\u001b[0m\n\u001b[0m\u001b[1;32m    680\u001b[0m             \u001b[0;32mreturn\u001b[0m \u001b[0mOMEXML\u001b[0m\u001b[0;34m.\u001b[0m\u001b[0mChannel\u001b[0m\u001b[0;34m(\u001b[0m\u001b[0mchannel\u001b[0m\u001b[0;34m)\u001b[0m\u001b[0;34m\u001b[0m\u001b[0m\n\u001b[1;32m    681\u001b[0m \u001b[0;34m\u001b[0m\u001b[0m\n",
      "\u001b[0;31mIndexError\u001b[0m: list index out of range"
     ]
    }
   ],
   "source": [
    "md = bf.get_omexml_metadata(file_full_path)\n",
    "ome = bf.OMEXML(md)\n",
    "iome = ome.image(0) # e.g. first image\n",
    "#print(ome.image_count)\n",
    "\n",
    "print('')\n",
    "print('Image Name:  %s' %iome.get_Name())\n",
    "print('Image ID:  %s' %iome.get_ID()) #what is image ID?\n",
    "print('Acquisition Date:  %s'  %iome.AcquisitionDate)\n",
    "print('')\n",
    "\n",
    "print('Bit Depth:  %s' %iome.Pixels.get_PixelType())\n",
    "print('XYZ Dimensions:  %s x %s x %s pixels' %(iome.Pixels.get_SizeX(),iome.Pixels.get_SizeY(),iome.Pixels.get_SizeZ()))\n",
    "print('Time Points:  %s' %iome.Pixels.get_SizeT())\n",
    "print('DimensionOrder:  %s' %iome.Pixels.DimensionOrder)\n",
    "#print('get_DimensionOrder:  %s' %iome.Pixels.get_DimensionOrder()) #what is the difference between get_DimensionOrder() and DimensionOrder?\n",
    "print('Channels:  %s' %iome.Pixels.get_SizeC())\n",
    "print('Ch1:  %s' %iome.Pixels.Channel(0).Name)\n",
    "print('Ch2:  %s' %iome.Pixels.Channel(1).Name)\n",
    "print('')"
   ]
  },
  {
   "cell_type": "markdown",
   "metadata": {},
   "source": [
    "##### Show image\n",
    "In this example, the array dimensions are ordered as ZYXC. There's no T dimension. You can order things however you want. Just need to restructure the loop(s)"
   ]
  },
  {
   "cell_type": "code",
   "execution_count": null,
   "metadata": {},
   "outputs": [],
   "source": [
    "reader = bf.ImageReader(file_full_path)\n",
    "\n",
    "raw_data = []\n",
    "for z in range(iome.Pixels.get_SizeZ()):\n",
    "    raw_image = reader.read(z=z, series=0, rescale=False)\n",
    "    raw_data.append(raw_image)\n",
    "    \n",
    "raw_data = np.array(raw_data)\n",
    "print('Your array of image has the shape:  %s' %str(raw_data.shape))\n",
    "\n",
    "plt.imshow(raw_data[16, :, :, 0], cmap=cm.gray)\n",
    "plt.show()"
   ]
  },
  {
   "cell_type": "markdown",
   "metadata": {},
   "source": [
    "##### Close Java Virtual Machine at the end"
   ]
  },
  {
   "cell_type": "code",
   "execution_count": 7,
   "metadata": {
    "collapsed": true
   },
   "outputs": [],
   "source": [
    "jv.kill_vm()"
   ]
  },
  {
   "cell_type": "code",
   "execution_count": null,
   "metadata": {
    "collapsed": true
   },
   "outputs": [],
   "source": []
  }
 ],
 "metadata": {
  "kernelspec": {
   "display_name": "Python 2",
   "language": "python",
   "name": "python2"
  },
  "language_info": {
   "codemirror_mode": {
    "name": "ipython",
    "version": 2
   },
   "file_extension": ".py",
   "mimetype": "text/x-python",
   "name": "python",
   "nbconvert_exporter": "python",
   "pygments_lexer": "ipython2",
   "version": "2.7.13"
  }
 },
 "nbformat": 4,
 "nbformat_minor": 2
}
